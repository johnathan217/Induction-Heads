{
 "cells": [
  {
   "cell_type": "code",
   "execution_count": 1,
   "id": "initial_id",
   "metadata": {
    "collapsed": true,
    "ExecuteTime": {
     "end_time": "2024-07-11T23:31:57.574572800Z",
     "start_time": "2024-07-11T23:31:45.273731700Z"
    }
   },
   "outputs": [],
   "source": [
    "import torch as t\n",
    "import torch.nn as nn\n",
    "import einops\n",
    "from jaxtyping import Int, Float\n",
    "from typing import List, Optional, Tuple\n",
    "from transformer_lens import HookedTransformer\n",
    "import circuitsvis as cv\n",
    "from circuitsvis.attention import attention_patterns, attention_pattern\n",
    "from InductionHeadMethods import InductionTask as IT\n",
    "import plotly.express as px\n",
    "from InductionHeadMethods import InductionHook\n",
    "\n",
    "t.set_grad_enabled(False)\n",
    "device = t.device(\"cuda\" if t.cuda.is_available() else \"cpu\")"
   ]
  },
  {
   "cell_type": "code",
   "execution_count": 2,
   "outputs": [
    {
     "name": "stderr",
     "output_type": "stream",
     "text": [
      "C:\\Users\\614987704\\AppData\\Local\\Programs\\Python\\Python311\\Lib\\site-packages\\huggingface_hub\\file_download.py:1132: FutureWarning: `resume_download` is deprecated and will be removed in version 1.0.0. Downloads always resume when possible. If you want to force a new download, use `force_download=True`.\n",
      "  warnings.warn(\n"
     ]
    },
    {
     "name": "stdout",
     "output_type": "stream",
     "text": [
      "Loaded pretrained model gpt2-small into HookedTransformer\n"
     ]
    }
   ],
   "source": [
    "model: HookedTransformer = HookedTransformer.from_pretrained(\"gpt2-small\")"
   ],
   "metadata": {
    "collapsed": false,
    "ExecuteTime": {
     "end_time": "2024-07-11T23:32:01.597465500Z",
     "start_time": "2024-07-11T23:31:57.574572800Z"
    }
   },
   "id": "153a4014b160f41c"
  },
  {
   "cell_type": "code",
   "execution_count": 3,
   "outputs": [],
   "source": [
    "tokens, logits, cache = IT.run_and_cache_model_repeated_tokens(model, 50)\n",
    "cache.remove_batch_dim()\n",
    "str_tokens = model.to_str_tokens(tokens)"
   ],
   "metadata": {
    "collapsed": false,
    "ExecuteTime": {
     "end_time": "2024-07-11T23:32:02.096243500Z",
     "start_time": "2024-07-11T23:32:01.585765500Z"
    }
   },
   "id": "d05a093b4d52dc90"
  },
  {
   "cell_type": "code",
   "execution_count": 4,
   "outputs": [],
   "source": [
    "rep_tokens_10 = IT.generate_repeated_tokens(model, 50, 10)"
   ],
   "metadata": {
    "collapsed": false,
    "ExecuteTime": {
     "end_time": "2024-07-11T23:32:02.097380100Z",
     "start_time": "2024-07-11T23:32:02.082678100Z"
    }
   },
   "id": "31d5b8fbaa454701"
  },
  {
   "cell_type": "code",
   "execution_count": 5,
   "outputs": [],
   "source": [
    "induction_hook = InductionHook(model)\n",
    "\n",
    "model.run_with_hooks(\n",
    "    rep_tokens_10,\n",
    "    return_type=None,\n",
    "    fwd_hooks=[\n",
    "        (induction_hook.filter, induction_hook.hook)\n",
    "    ]\n",
    ")"
   ],
   "metadata": {
    "collapsed": false,
    "ExecuteTime": {
     "end_time": "2024-07-11T23:32:04.091535100Z",
     "start_time": "2024-07-11T23:32:02.093170700Z"
    }
   },
   "id": "cc38403773400475"
  },
  {
   "cell_type": "code",
   "execution_count": 6,
   "outputs": [],
   "source": [
    "px.imshow(\n",
    "    induction_hook.score_store,\n",
    "    labels={\"x\": \"Head\", \"y\": \"Layer\"},\n",
    "    title=\"Induction Score by Head\",\n",
    "    text_auto=\".2f\",\n",
    "    width=900, height=400\n",
    ")"
   ],
   "metadata": {
    "collapsed": false,
    "ExecuteTime": {
     "end_time": "2024-07-11T23:32:04.109633100Z",
     "start_time": "2024-07-11T23:32:04.092031700Z"
    }
   },
   "id": "c63b88c8288ec090"
  }
 ],
 "metadata": {
  "kernelspec": {
   "display_name": "Python 3",
   "language": "python",
   "name": "python3"
  },
  "language_info": {
   "codemirror_mode": {
    "name": "ipython",
    "version": 2
   },
   "file_extension": ".py",
   "mimetype": "text/x-python",
   "name": "python",
   "nbconvert_exporter": "python",
   "pygments_lexer": "ipython2",
   "version": "2.7.6"
  }
 },
 "nbformat": 4,
 "nbformat_minor": 5
}
